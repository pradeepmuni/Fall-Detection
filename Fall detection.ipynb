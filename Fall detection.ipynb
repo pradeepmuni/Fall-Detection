{
 "cells": [
  {
   "cell_type": "markdown",
   "metadata": {},
   "source": [
    "\n",
    "<div class=\"alert alert-block alert-info\">\n",
    "<b><font size=\"4\"> Importing the Necessary Libraries</font></b>\n",
    "</div>\n"
   ]
  },
  {
   "cell_type": "code",
   "execution_count": 1,
   "metadata": {},
   "outputs": [],
   "source": [
    "import matplotlib.pyplot as plt\n",
    "import numpy as np\n",
    "import pandas as pd\n",
    "import seaborn as sns\n",
    "%matplotlib inline\n",
    "import warnings\n",
    "warnings.filterwarnings('ignore')\n"
   ]
  },
  {
   "cell_type": "markdown",
   "metadata": {},
   "source": [
    "<div class=\"alert alert-block alert-warning\">\n",
    "<b><font size=\"6\">Loading the dataset</font></b>\n",
    "</div>"
   ]
  },
  {
   "cell_type": "code",
   "execution_count": 20,
   "metadata": {
    "scrolled": true
   },
   "outputs": [],
   "source": [
    "# YOUR CODES\n",
    "df= pd.read_csv(r'C:\\Univ\\3rd Semester\\Programming for Data Science\\exam 2\\falldetection.csv')"
   ]
  },
  {
   "cell_type": "code",
   "execution_count": 21,
   "metadata": {},
   "outputs": [
    {
     "data": {
      "text/html": [
       "<div>\n",
       "<style scoped>\n",
       "    .dataframe tbody tr th:only-of-type {\n",
       "        vertical-align: middle;\n",
       "    }\n",
       "\n",
       "    .dataframe tbody tr th {\n",
       "        vertical-align: top;\n",
       "    }\n",
       "\n",
       "    .dataframe thead th {\n",
       "        text-align: right;\n",
       "    }\n",
       "</style>\n",
       "<table border=\"1\" class=\"dataframe\">\n",
       "  <thead>\n",
       "    <tr style=\"text-align: right;\">\n",
       "      <th></th>\n",
       "      <th>ACTIVITY</th>\n",
       "      <th>TIME</th>\n",
       "      <th>SL</th>\n",
       "      <th>EEG</th>\n",
       "      <th>BP</th>\n",
       "      <th>HR</th>\n",
       "      <th>CIRCLUATION</th>\n",
       "    </tr>\n",
       "  </thead>\n",
       "  <tbody>\n",
       "    <tr>\n",
       "      <td>0</td>\n",
       "      <td>3</td>\n",
       "      <td>4722.92</td>\n",
       "      <td>4019.64</td>\n",
       "      <td>-1600.00</td>\n",
       "      <td>13</td>\n",
       "      <td>79</td>\n",
       "      <td>317</td>\n",
       "    </tr>\n",
       "    <tr>\n",
       "      <td>1</td>\n",
       "      <td>2</td>\n",
       "      <td>4059.12</td>\n",
       "      <td>2191.03</td>\n",
       "      <td>-1146.08</td>\n",
       "      <td>20</td>\n",
       "      <td>54</td>\n",
       "      <td>165</td>\n",
       "    </tr>\n",
       "    <tr>\n",
       "      <td>2</td>\n",
       "      <td>2</td>\n",
       "      <td>4773.56</td>\n",
       "      <td>2787.99</td>\n",
       "      <td>-1263.38</td>\n",
       "      <td>46</td>\n",
       "      <td>67</td>\n",
       "      <td>224</td>\n",
       "    </tr>\n",
       "    <tr>\n",
       "      <td>3</td>\n",
       "      <td>4</td>\n",
       "      <td>8271.27</td>\n",
       "      <td>9545.98</td>\n",
       "      <td>-2848.93</td>\n",
       "      <td>26</td>\n",
       "      <td>138</td>\n",
       "      <td>554</td>\n",
       "    </tr>\n",
       "    <tr>\n",
       "      <td>4</td>\n",
       "      <td>4</td>\n",
       "      <td>7102.16</td>\n",
       "      <td>14148.80</td>\n",
       "      <td>-2381.15</td>\n",
       "      <td>85</td>\n",
       "      <td>120</td>\n",
       "      <td>809</td>\n",
       "    </tr>\n",
       "  </tbody>\n",
       "</table>\n",
       "</div>"
      ],
      "text/plain": [
       "   ACTIVITY     TIME        SL      EEG  BP   HR  CIRCLUATION\n",
       "0         3  4722.92   4019.64 -1600.00  13   79          317\n",
       "1         2  4059.12   2191.03 -1146.08  20   54          165\n",
       "2         2  4773.56   2787.99 -1263.38  46   67          224\n",
       "3         4  8271.27   9545.98 -2848.93  26  138          554\n",
       "4         4  7102.16  14148.80 -2381.15  85  120          809"
      ]
     },
     "execution_count": 21,
     "metadata": {},
     "output_type": "execute_result"
    }
   ],
   "source": [
    "df.head()"
   ]
  },
  {
   "cell_type": "code",
   "execution_count": 22,
   "metadata": {},
   "outputs": [
    {
     "data": {
      "text/plain": [
       "(16382, 7)"
      ]
     },
     "execution_count": 22,
     "metadata": {},
     "output_type": "execute_result"
    }
   ],
   "source": [
    "df.shape"
   ]
  },
  {
   "cell_type": "code",
   "execution_count": 23,
   "metadata": {},
   "outputs": [
    {
     "data": {
      "text/plain": [
       "ACTIVITY       0\n",
       "TIME           0\n",
       "SL             0\n",
       "EEG            0\n",
       "BP             0\n",
       "HR             0\n",
       "CIRCLUATION    0\n",
       "dtype: int64"
      ]
     },
     "execution_count": 23,
     "metadata": {},
     "output_type": "execute_result"
    }
   ],
   "source": [
    "df.isnull().sum() # checking for missing values"
   ]
  },
  {
   "cell_type": "markdown",
   "metadata": {},
   "source": [
    "Changing the categorical variable to for falling category alone"
   ]
  },
  {
   "cell_type": "code",
   "execution_count": 24,
   "metadata": {},
   "outputs": [
    {
     "data": {
      "text/plain": [
       "0    4608\n",
       "3    3588\n",
       "4    3494\n",
       "2    2502\n",
       "5    1688\n",
       "1     502\n",
       "Name: ACTIVITY, dtype: int64"
      ]
     },
     "execution_count": 24,
     "metadata": {},
     "output_type": "execute_result"
    }
   ],
   "source": [
    "df['ACTIVITY'].value_counts()  #3 is falling"
   ]
  },
  {
   "cell_type": "code",
   "execution_count": 25,
   "metadata": {},
   "outputs": [],
   "source": [
    "df['ACTIVITY'].replace(4,0,inplace=True)\n",
    "df['ACTIVITY'].replace(2,0,inplace=True)\n",
    "df['ACTIVITY'].replace(5,0,inplace=True)\n",
    "df['ACTIVITY'].replace(1,0,inplace=True)"
   ]
  },
  {
   "cell_type": "code",
   "execution_count": 26,
   "metadata": {},
   "outputs": [
    {
     "data": {
      "text/plain": [
       "0    12794\n",
       "3     3588\n",
       "Name: ACTIVITY, dtype: int64"
      ]
     },
     "execution_count": 26,
     "metadata": {},
     "output_type": "execute_result"
    }
   ],
   "source": [
    "df['ACTIVITY'].value_counts()  #3 is falling"
   ]
  },
  {
   "cell_type": "code",
   "execution_count": 27,
   "metadata": {},
   "outputs": [],
   "source": [
    "df['ACTIVITY'].replace(3,1,inplace=True)"
   ]
  },
  {
   "cell_type": "code",
   "execution_count": 28,
   "metadata": {},
   "outputs": [
    {
     "data": {
      "text/plain": [
       "0    12794\n",
       "1     3588\n",
       "Name: ACTIVITY, dtype: int64"
      ]
     },
     "execution_count": 28,
     "metadata": {},
     "output_type": "execute_result"
    }
   ],
   "source": [
    "df['ACTIVITY'].value_counts()  #1 is falling"
   ]
  },
  {
   "cell_type": "code",
   "execution_count": 29,
   "metadata": {},
   "outputs": [
    {
     "data": {
      "text/html": [
       "<div>\n",
       "<style scoped>\n",
       "    .dataframe tbody tr th:only-of-type {\n",
       "        vertical-align: middle;\n",
       "    }\n",
       "\n",
       "    .dataframe tbody tr th {\n",
       "        vertical-align: top;\n",
       "    }\n",
       "\n",
       "    .dataframe thead th {\n",
       "        text-align: right;\n",
       "    }\n",
       "</style>\n",
       "<table border=\"1\" class=\"dataframe\">\n",
       "  <thead>\n",
       "    <tr style=\"text-align: right;\">\n",
       "      <th></th>\n",
       "      <th>ACTIVITY</th>\n",
       "      <th>TIME</th>\n",
       "      <th>SL</th>\n",
       "      <th>EEG</th>\n",
       "      <th>BP</th>\n",
       "      <th>HR</th>\n",
       "      <th>CIRCLUATION</th>\n",
       "    </tr>\n",
       "  </thead>\n",
       "  <tbody>\n",
       "    <tr>\n",
       "      <td>0</td>\n",
       "      <td>1</td>\n",
       "      <td>4722.92</td>\n",
       "      <td>4019.64</td>\n",
       "      <td>-1600.00</td>\n",
       "      <td>13</td>\n",
       "      <td>79</td>\n",
       "      <td>317</td>\n",
       "    </tr>\n",
       "    <tr>\n",
       "      <td>1</td>\n",
       "      <td>0</td>\n",
       "      <td>4059.12</td>\n",
       "      <td>2191.03</td>\n",
       "      <td>-1146.08</td>\n",
       "      <td>20</td>\n",
       "      <td>54</td>\n",
       "      <td>165</td>\n",
       "    </tr>\n",
       "    <tr>\n",
       "      <td>2</td>\n",
       "      <td>0</td>\n",
       "      <td>4773.56</td>\n",
       "      <td>2787.99</td>\n",
       "      <td>-1263.38</td>\n",
       "      <td>46</td>\n",
       "      <td>67</td>\n",
       "      <td>224</td>\n",
       "    </tr>\n",
       "    <tr>\n",
       "      <td>3</td>\n",
       "      <td>0</td>\n",
       "      <td>8271.27</td>\n",
       "      <td>9545.98</td>\n",
       "      <td>-2848.93</td>\n",
       "      <td>26</td>\n",
       "      <td>138</td>\n",
       "      <td>554</td>\n",
       "    </tr>\n",
       "    <tr>\n",
       "      <td>4</td>\n",
       "      <td>0</td>\n",
       "      <td>7102.16</td>\n",
       "      <td>14148.80</td>\n",
       "      <td>-2381.15</td>\n",
       "      <td>85</td>\n",
       "      <td>120</td>\n",
       "      <td>809</td>\n",
       "    </tr>\n",
       "  </tbody>\n",
       "</table>\n",
       "</div>"
      ],
      "text/plain": [
       "   ACTIVITY     TIME        SL      EEG  BP   HR  CIRCLUATION\n",
       "0         1  4722.92   4019.64 -1600.00  13   79          317\n",
       "1         0  4059.12   2191.03 -1146.08  20   54          165\n",
       "2         0  4773.56   2787.99 -1263.38  46   67          224\n",
       "3         0  8271.27   9545.98 -2848.93  26  138          554\n",
       "4         0  7102.16  14148.80 -2381.15  85  120          809"
      ]
     },
     "execution_count": 29,
     "metadata": {},
     "output_type": "execute_result"
    }
   ],
   "source": [
    "df.head()"
   ]
  },
  {
   "cell_type": "code",
   "execution_count": 31,
   "metadata": {},
   "outputs": [],
   "source": [
    "x=df.drop('ACTIVITY',axis=1)\n",
    "y=df['ACTIVITY']"
   ]
  },
  {
   "cell_type": "code",
   "execution_count": 32,
   "metadata": {},
   "outputs": [
    {
     "data": {
      "text/html": [
       "<div>\n",
       "<style scoped>\n",
       "    .dataframe tbody tr th:only-of-type {\n",
       "        vertical-align: middle;\n",
       "    }\n",
       "\n",
       "    .dataframe tbody tr th {\n",
       "        vertical-align: top;\n",
       "    }\n",
       "\n",
       "    .dataframe thead th {\n",
       "        text-align: right;\n",
       "    }\n",
       "</style>\n",
       "<table border=\"1\" class=\"dataframe\">\n",
       "  <thead>\n",
       "    <tr style=\"text-align: right;\">\n",
       "      <th></th>\n",
       "      <th>TIME</th>\n",
       "      <th>SL</th>\n",
       "      <th>EEG</th>\n",
       "      <th>BP</th>\n",
       "      <th>HR</th>\n",
       "      <th>CIRCLUATION</th>\n",
       "    </tr>\n",
       "  </thead>\n",
       "  <tbody>\n",
       "    <tr>\n",
       "      <td>0</td>\n",
       "      <td>4722.92</td>\n",
       "      <td>4019.64</td>\n",
       "      <td>-1600.00</td>\n",
       "      <td>13</td>\n",
       "      <td>79</td>\n",
       "      <td>317</td>\n",
       "    </tr>\n",
       "    <tr>\n",
       "      <td>1</td>\n",
       "      <td>4059.12</td>\n",
       "      <td>2191.03</td>\n",
       "      <td>-1146.08</td>\n",
       "      <td>20</td>\n",
       "      <td>54</td>\n",
       "      <td>165</td>\n",
       "    </tr>\n",
       "    <tr>\n",
       "      <td>2</td>\n",
       "      <td>4773.56</td>\n",
       "      <td>2787.99</td>\n",
       "      <td>-1263.38</td>\n",
       "      <td>46</td>\n",
       "      <td>67</td>\n",
       "      <td>224</td>\n",
       "    </tr>\n",
       "    <tr>\n",
       "      <td>3</td>\n",
       "      <td>8271.27</td>\n",
       "      <td>9545.98</td>\n",
       "      <td>-2848.93</td>\n",
       "      <td>26</td>\n",
       "      <td>138</td>\n",
       "      <td>554</td>\n",
       "    </tr>\n",
       "    <tr>\n",
       "      <td>4</td>\n",
       "      <td>7102.16</td>\n",
       "      <td>14148.80</td>\n",
       "      <td>-2381.15</td>\n",
       "      <td>85</td>\n",
       "      <td>120</td>\n",
       "      <td>809</td>\n",
       "    </tr>\n",
       "  </tbody>\n",
       "</table>\n",
       "</div>"
      ],
      "text/plain": [
       "      TIME        SL      EEG  BP   HR  CIRCLUATION\n",
       "0  4722.92   4019.64 -1600.00  13   79          317\n",
       "1  4059.12   2191.03 -1146.08  20   54          165\n",
       "2  4773.56   2787.99 -1263.38  46   67          224\n",
       "3  8271.27   9545.98 -2848.93  26  138          554\n",
       "4  7102.16  14148.80 -2381.15  85  120          809"
      ]
     },
     "execution_count": 32,
     "metadata": {},
     "output_type": "execute_result"
    }
   ],
   "source": [
    "x.head()"
   ]
  },
  {
   "cell_type": "code",
   "execution_count": 33,
   "metadata": {},
   "outputs": [
    {
     "data": {
      "text/plain": [
       "0    1\n",
       "1    0\n",
       "2    0\n",
       "3    0\n",
       "4    0\n",
       "Name: ACTIVITY, dtype: int64"
      ]
     },
     "execution_count": 33,
     "metadata": {},
     "output_type": "execute_result"
    }
   ],
   "source": [
    "y.head()"
   ]
  },
  {
   "cell_type": "markdown",
   "metadata": {},
   "source": [
    "<div class=\"alert alert-block alert-warning\">\n",
    "<b><font size=\"6\">Metrics selection</font></b>\n",
    "</div>"
   ]
  },
  {
   "cell_type": "code",
   "execution_count": 34,
   "metadata": {},
   "outputs": [],
   "source": [
    "from sklearn.metrics import confusion_matrix,classification_report,precision_recall_curve,recall_score,roc_auc_score\n",
    "from sklearn.metrics import roc_curve,precision_score,f1_score,auc"
   ]
  },
  {
   "cell_type": "markdown",
   "metadata": {},
   "source": [
    "<div class=\"alert alert-block alert-warning\">\n",
    "<b><font size=\"6\">Data Partitioning and scaling</font></b>\n",
    "</div>"
   ]
  },
  {
   "cell_type": "code",
   "execution_count": 39,
   "metadata": {},
   "outputs": [],
   "source": [
    "from sklearn.model_selection import train_test_split\n",
    "x_train, x_test, y_train, y_test=train_test_split(x, y,test_size=0.30, random_state=23)\n",
    "#scale it by using standard scaler\n",
    "from sklearn.preprocessing import StandardScaler\n",
    "sc= StandardScaler()\n",
    "x_train_sc= sc.fit_transform(x_train)\n",
    "x_test_sc=sc.transform(x_test)"
   ]
  },
  {
   "cell_type": "code",
   "execution_count": 40,
   "metadata": {},
   "outputs": [
    {
     "name": "stdout",
     "output_type": "stream",
     "text": [
      "training shape:  (11467, 6) (11467,)\n"
     ]
    }
   ],
   "source": [
    "print('training shape: ',x_train.shape , y_train.shape)"
   ]
  },
  {
   "cell_type": "code",
   "execution_count": 41,
   "metadata": {},
   "outputs": [
    {
     "name": "stdout",
     "output_type": "stream",
     "text": [
      "training shape:  (4915, 6) (4915,)\n"
     ]
    }
   ],
   "source": [
    "print('training shape: ',x_test.shape , y_test.shape)"
   ]
  },
  {
   "cell_type": "code",
   "execution_count": 42,
   "metadata": {},
   "outputs": [
    {
     "name": "stdout",
     "output_type": "stream",
     "text": [
      "training shape:  (11467, 6) (11467,)\n"
     ]
    }
   ],
   "source": [
    "print('training shape: ',x_train_sc.shape , y_train.shape)"
   ]
  },
  {
   "cell_type": "code",
   "execution_count": 43,
   "metadata": {},
   "outputs": [
    {
     "name": "stdout",
     "output_type": "stream",
     "text": [
      "training shape:  (4915, 6) (4915,)\n"
     ]
    }
   ],
   "source": [
    "print('training shape: ',x_test_sc.shape , y_test.shape)"
   ]
  },
  {
   "cell_type": "markdown",
   "metadata": {},
   "source": [
    "\n",
    "<div class=\"alert alert-block alert-warning\">\n",
    "<b><font size=\"6\"> Modelling</font></b>\n",
    "</div>\n"
   ]
  },
  {
   "cell_type": "markdown",
   "metadata": {},
   "source": [
    "\n",
    "<div class=\"alert alert-block alert-info\">\n",
    "<b><font size=\"4\"> 1). K Nearest Neighbors</font></b>\n",
    "</div>\n"
   ]
  },
  {
   "cell_type": "code",
   "execution_count": 45,
   "metadata": {},
   "outputs": [
    {
     "name": "stdout",
     "output_type": "stream",
     "text": [
      "\n",
      " KNN Modelling: \n",
      "\n",
      "\t•Best parameters: {'n_neighbors': 10}\n",
      "\n",
      "\t•Best cross-validation score: 0.83\n",
      "\n",
      "\t•The Test score:  0.8233977619532045\n",
      "\n",
      "\t•ROC-AUC SCORE 0.8540492335287\n",
      "\n",
      "The Confusion Matrix is plotted below:\n"
     ]
    },
    {
     "data": {
      "text/html": [
       "<div>\n",
       "<style scoped>\n",
       "    .dataframe tbody tr th:only-of-type {\n",
       "        vertical-align: middle;\n",
       "    }\n",
       "\n",
       "    .dataframe tbody tr th {\n",
       "        vertical-align: top;\n",
       "    }\n",
       "\n",
       "    .dataframe thead th {\n",
       "        text-align: right;\n",
       "    }\n",
       "</style>\n",
       "<table border=\"1\" class=\"dataframe\">\n",
       "  <thead>\n",
       "    <tr style=\"text-align: right;\">\n",
       "      <th></th>\n",
       "      <th>Not Falling</th>\n",
       "      <th>Falling</th>\n",
       "    </tr>\n",
       "  </thead>\n",
       "  <tbody>\n",
       "    <tr>\n",
       "      <td>Not Falling</td>\n",
       "      <td>3522</td>\n",
       "      <td>301</td>\n",
       "    </tr>\n",
       "    <tr>\n",
       "      <td>Falling</td>\n",
       "      <td>567</td>\n",
       "      <td>525</td>\n",
       "    </tr>\n",
       "  </tbody>\n",
       "</table>\n",
       "</div>"
      ],
      "text/plain": [
       "             Not Falling  Falling\n",
       "Not Falling         3522      301\n",
       "Falling              567      525"
      ]
     },
     "metadata": {},
     "output_type": "display_data"
    },
    {
     "name": "stdout",
     "output_type": "stream",
     "text": [
      "\n",
      "The Classification Report is plotted below: \n",
      "\n",
      "              precision    recall  f1-score   support\n",
      "\n",
      "          0       0.86      0.92      0.89      3823\n",
      "          1       0.64      0.48      0.55      1092\n",
      "\n",
      "avg / total       0.81      0.82      0.81      4915\n",
      "\n",
      "   micro avg\t   0.82      0.82      0.82\n"
     ]
    },
    {
     "data": {
      "text/html": [
       "<div>\n",
       "<style scoped>\n",
       "    .dataframe tbody tr th:only-of-type {\n",
       "        vertical-align: middle;\n",
       "    }\n",
       "\n",
       "    .dataframe tbody tr th {\n",
       "        vertical-align: top;\n",
       "    }\n",
       "\n",
       "    .dataframe thead th {\n",
       "        text-align: right;\n",
       "    }\n",
       "</style>\n",
       "<table border=\"1\" class=\"dataframe\">\n",
       "  <thead>\n",
       "    <tr style=\"text-align: right;\">\n",
       "      <th></th>\n",
       "      <th>mean_fit_time</th>\n",
       "      <th>std_fit_time</th>\n",
       "      <th>mean_score_time</th>\n",
       "      <th>std_score_time</th>\n",
       "      <th>param_n_neighbors</th>\n",
       "      <th>params</th>\n",
       "      <th>split0_test_score</th>\n",
       "      <th>split1_test_score</th>\n",
       "      <th>split2_test_score</th>\n",
       "      <th>split3_test_score</th>\n",
       "      <th>...</th>\n",
       "      <th>mean_test_score</th>\n",
       "      <th>std_test_score</th>\n",
       "      <th>rank_test_score</th>\n",
       "      <th>split0_train_score</th>\n",
       "      <th>split1_train_score</th>\n",
       "      <th>split2_train_score</th>\n",
       "      <th>split3_train_score</th>\n",
       "      <th>split4_train_score</th>\n",
       "      <th>mean_train_score</th>\n",
       "      <th>std_train_score</th>\n",
       "    </tr>\n",
       "  </thead>\n",
       "  <tbody>\n",
       "    <tr>\n",
       "      <td>0</td>\n",
       "      <td>0.023580</td>\n",
       "      <td>0.003211</td>\n",
       "      <td>0.162841</td>\n",
       "      <td>0.010558</td>\n",
       "      <td>1</td>\n",
       "      <td>{'n_neighbors': 1}</td>\n",
       "      <td>0.811765</td>\n",
       "      <td>0.784562</td>\n",
       "      <td>0.807239</td>\n",
       "      <td>0.806803</td>\n",
       "      <td>...</td>\n",
       "      <td>0.804657</td>\n",
       "      <td>0.010331</td>\n",
       "      <td>6</td>\n",
       "      <td>1.000000</td>\n",
       "      <td>1.000000</td>\n",
       "      <td>1.000000</td>\n",
       "      <td>1.000000</td>\n",
       "      <td>1.000000</td>\n",
       "      <td>1.000000</td>\n",
       "      <td>0.000000</td>\n",
       "    </tr>\n",
       "    <tr>\n",
       "      <td>1</td>\n",
       "      <td>0.021204</td>\n",
       "      <td>0.002040</td>\n",
       "      <td>0.195052</td>\n",
       "      <td>0.013042</td>\n",
       "      <td>2</td>\n",
       "      <td>{'n_neighbors': 2}</td>\n",
       "      <td>0.827015</td>\n",
       "      <td>0.805495</td>\n",
       "      <td>0.822939</td>\n",
       "      <td>0.825992</td>\n",
       "      <td>...</td>\n",
       "      <td>0.822011</td>\n",
       "      <td>0.008462</td>\n",
       "      <td>3</td>\n",
       "      <td>0.912015</td>\n",
       "      <td>0.915522</td>\n",
       "      <td>0.915958</td>\n",
       "      <td>0.911380</td>\n",
       "      <td>0.910399</td>\n",
       "      <td>0.913055</td>\n",
       "      <td>0.002256</td>\n",
       "    </tr>\n",
       "    <tr>\n",
       "      <td>2</td>\n",
       "      <td>0.023005</td>\n",
       "      <td>0.003406</td>\n",
       "      <td>0.199652</td>\n",
       "      <td>0.009223</td>\n",
       "      <td>3</td>\n",
       "      <td>{'n_neighbors': 3}</td>\n",
       "      <td>0.824401</td>\n",
       "      <td>0.794156</td>\n",
       "      <td>0.816398</td>\n",
       "      <td>0.821195</td>\n",
       "      <td>...</td>\n",
       "      <td>0.814337</td>\n",
       "      <td>0.010595</td>\n",
       "      <td>5</td>\n",
       "      <td>0.902093</td>\n",
       "      <td>0.903532</td>\n",
       "      <td>0.903532</td>\n",
       "      <td>0.900371</td>\n",
       "      <td>0.900698</td>\n",
       "      <td>0.902045</td>\n",
       "      <td>0.001345</td>\n",
       "    </tr>\n",
       "    <tr>\n",
       "      <td>3</td>\n",
       "      <td>0.032006</td>\n",
       "      <td>0.014117</td>\n",
       "      <td>0.294478</td>\n",
       "      <td>0.048876</td>\n",
       "      <td>5</td>\n",
       "      <td>{'n_neighbors': 5}</td>\n",
       "      <td>0.823094</td>\n",
       "      <td>0.801134</td>\n",
       "      <td>0.822503</td>\n",
       "      <td>0.834278</td>\n",
       "      <td>...</td>\n",
       "      <td>0.821662</td>\n",
       "      <td>0.011091</td>\n",
       "      <td>4</td>\n",
       "      <td>0.876908</td>\n",
       "      <td>0.878134</td>\n",
       "      <td>0.876063</td>\n",
       "      <td>0.876717</td>\n",
       "      <td>0.878352</td>\n",
       "      <td>0.877235</td>\n",
       "      <td>0.000872</td>\n",
       "    </tr>\n",
       "    <tr>\n",
       "      <td>4</td>\n",
       "      <td>0.038604</td>\n",
       "      <td>0.010546</td>\n",
       "      <td>0.245862</td>\n",
       "      <td>0.061574</td>\n",
       "      <td>8</td>\n",
       "      <td>{'n_neighbors': 8}</td>\n",
       "      <td>0.834423</td>\n",
       "      <td>0.820323</td>\n",
       "      <td>0.829045</td>\n",
       "      <td>0.845617</td>\n",
       "      <td>...</td>\n",
       "      <td>0.829772</td>\n",
       "      <td>0.009685</td>\n",
       "      <td>2</td>\n",
       "      <td>0.862625</td>\n",
       "      <td>0.861129</td>\n",
       "      <td>0.863200</td>\n",
       "      <td>0.859385</td>\n",
       "      <td>0.863854</td>\n",
       "      <td>0.862039</td>\n",
       "      <td>0.001604</td>\n",
       "    </tr>\n",
       "  </tbody>\n",
       "</table>\n",
       "<p>5 rows × 21 columns</p>\n",
       "</div>"
      ],
      "text/plain": [
       "   mean_fit_time  std_fit_time  mean_score_time  std_score_time  \\\n",
       "0       0.023580      0.003211         0.162841        0.010558   \n",
       "1       0.021204      0.002040         0.195052        0.013042   \n",
       "2       0.023005      0.003406         0.199652        0.009223   \n",
       "3       0.032006      0.014117         0.294478        0.048876   \n",
       "4       0.038604      0.010546         0.245862        0.061574   \n",
       "\n",
       "  param_n_neighbors              params  split0_test_score  split1_test_score  \\\n",
       "0                 1  {'n_neighbors': 1}           0.811765           0.784562   \n",
       "1                 2  {'n_neighbors': 2}           0.827015           0.805495   \n",
       "2                 3  {'n_neighbors': 3}           0.824401           0.794156   \n",
       "3                 5  {'n_neighbors': 5}           0.823094           0.801134   \n",
       "4                 8  {'n_neighbors': 8}           0.834423           0.820323   \n",
       "\n",
       "   split2_test_score  split3_test_score  ...  mean_test_score  std_test_score  \\\n",
       "0           0.807239           0.806803  ...         0.804657        0.010331   \n",
       "1           0.822939           0.825992  ...         0.822011        0.008462   \n",
       "2           0.816398           0.821195  ...         0.814337        0.010595   \n",
       "3           0.822503           0.834278  ...         0.821662        0.011091   \n",
       "4           0.829045           0.845617  ...         0.829772        0.009685   \n",
       "\n",
       "   rank_test_score  split0_train_score  split1_train_score  \\\n",
       "0                6            1.000000            1.000000   \n",
       "1                3            0.912015            0.915522   \n",
       "2                5            0.902093            0.903532   \n",
       "3                4            0.876908            0.878134   \n",
       "4                2            0.862625            0.861129   \n",
       "\n",
       "   split2_train_score  split3_train_score  split4_train_score  \\\n",
       "0            1.000000            1.000000            1.000000   \n",
       "1            0.915958            0.911380            0.910399   \n",
       "2            0.903532            0.900371            0.900698   \n",
       "3            0.876063            0.876717            0.878352   \n",
       "4            0.863200            0.859385            0.863854   \n",
       "\n",
       "   mean_train_score  std_train_score  \n",
       "0          1.000000         0.000000  \n",
       "1          0.913055         0.002256  \n",
       "2          0.902045         0.001345  \n",
       "3          0.877235         0.000872  \n",
       "4          0.862039         0.001604  \n",
       "\n",
       "[5 rows x 21 columns]"
      ]
     },
     "metadata": {},
     "output_type": "display_data"
    }
   ],
   "source": [
    "#KNN\n",
    "from sklearn.neighbors import KNeighborsClassifier\n",
    "from sklearn.model_selection import GridSearchCV\n",
    "param={'n_neighbors':[1,2,3,5,8,10]}\n",
    "knn=KNeighborsClassifier() \n",
    "knngrid=GridSearchCV(estimator=knn,param_grid=param,return_train_score=True,cv=5,n_jobs=-1)\n",
    "knngrid.fit(x_train_sc,y_train)\n",
    "print('\\n KNN Modelling: ')\n",
    "print(\"\\n\\t•Best parameters: {}\".format(knngrid.best_params_))\n",
    "print(\"\\n\\t•Best cross-validation score: {:.2f}\".format(knngrid.best_score_))\n",
    "print(\"\\n\\t•The Test score: \",knngrid.score(x_test_sc,y_test))\n",
    "y_pred=knngrid.predict(x_test_sc)\n",
    "y_prob=knngrid.predict_proba(x_test_sc)[:,1]\n",
    "print('\\n\\t•ROC-AUC SCORE',roc_auc_score(y_test,y_prob))\n",
    "print('\\nThe Confusion Matrix is plotted below:')\n",
    "display(pd.DataFrame(confusion_matrix(y_test,y_pred,labels=[0,1]),index=['Not Falling','Falling'],columns=['Not Falling','Falling']))\n",
    "print('\\nThe Classification Report is plotted below: \\n\\n',classification_report(y_test,y_pred))\n",
    "print('   micro avg\\t  ',precision_score(y_test, y_pred, average='micro').round(2),'    ',recall_score(y_test, y_pred, average='micro').round(2),'    ',\n",
    "      f1_score(y_test, y_pred, average='micro').round(2) )\n",
    "results = pd.DataFrame(knngrid.cv_results_)\n",
    "display(results.head())\n",
    "\n"
   ]
  },
  {
   "cell_type": "code",
   "execution_count": 46,
   "metadata": {},
   "outputs": [
    {
     "data": {
      "image/png": "[encoded data removed]",
      "text/plain": [
       "<Figure size 576x360 with 1 Axes>"
      ]
     },
     "metadata": {
      "needs_background": "light"
     },
     "output_type": "display_data"
    }
   ],
   "source": [
    "from sklearn.metrics import roc_curve, auc\n",
    "fpr_knn, tpr_knn, thresholds_knn = roc_curve(y_test, y_prob)\n",
    "roc_auc = auc(fpr_knn, tpr_knn)\n",
    "plt.figure(figsize=(8,5))\n",
    "plt.plot(fpr_knn, tpr_knn, lw=1, color='green', label=f'AUC = {roc_auc:.3f}')\n",
    "plt.plot([0, 1], [0, 1], color='navy', lw=3, linestyle='--')\n",
    "plt.title('ROC Curve for KNN classifier',fontsize=16)\n",
    "plt.xlabel('False Positive Rate', fontsize=16)\n",
    "plt.ylabel('True Positive Rate (Recall)', fontsize=16)\n",
    "plt.xlim([-0.05, 1.05])\n",
    "plt.ylim([-0.05, 1.05])\n",
    "plt.legend()\n",
    "plt.show()"
   ]
  },
  {
   "cell_type": "markdown",
   "metadata": {},
   "source": [
    "\n",
    "<div class=\"alert alert-block alert-info\">\n",
    "<b><font size=\"4\"> 2) Decision Tree</font></b>\n",
    "</div>\n",
    "\n"
   ]
  },
  {
   "cell_type": "code",
   "execution_count": 54,
   "metadata": {},
   "outputs": [
    {
     "name": "stdout",
     "output_type": "stream",
     "text": [
      "\n",
      " Decision Tree Modelling: \n",
      "\n",
      "\t•Best parameters: {'max_depth': 12}\n",
      "\n",
      "\t•Best cross-validation score: 0.82\n",
      "\n",
      "\t•The Test score:  0.824618514750763\n",
      "\n",
      "\t•ROC-AUC SCORE 0.8219599848229198\n",
      "\n",
      "The Confusion Matrix is plotted below:\n"
     ]
    },
    {
     "data": {
      "text/html": [
       "<div>\n",
       "<style scoped>\n",
       "    .dataframe tbody tr th:only-of-type {\n",
       "        vertical-align: middle;\n",
       "    }\n",
       "\n",
       "    .dataframe tbody tr th {\n",
       "        vertical-align: top;\n",
       "    }\n",
       "\n",
       "    .dataframe thead th {\n",
       "        text-align: right;\n",
       "    }\n",
       "</style>\n",
       "<table border=\"1\" class=\"dataframe\">\n",
       "  <thead>\n",
       "    <tr style=\"text-align: right;\">\n",
       "      <th></th>\n",
       "      <th>Not Falling</th>\n",
       "      <th>Falling</th>\n",
       "    </tr>\n",
       "  </thead>\n",
       "  <tbody>\n",
       "    <tr>\n",
       "      <td>Not Falling</td>\n",
       "      <td>3459</td>\n",
       "      <td>364</td>\n",
       "    </tr>\n",
       "    <tr>\n",
       "      <td>Falling</td>\n",
       "      <td>498</td>\n",
       "      <td>594</td>\n",
       "    </tr>\n",
       "  </tbody>\n",
       "</table>\n",
       "</div>"
      ],
      "text/plain": [
       "             Not Falling  Falling\n",
       "Not Falling         3459      364\n",
       "Falling              498      594"
      ]
     },
     "metadata": {},
     "output_type": "display_data"
    },
    {
     "name": "stdout",
     "output_type": "stream",
     "text": [
      "\n",
      "The Classification Report is plotted below: \n",
      "\n",
      "              precision    recall  f1-score   support\n",
      "\n",
      "          0       0.87      0.90      0.89      3823\n",
      "          1       0.62      0.54      0.58      1092\n",
      "\n",
      "avg / total       0.82      0.82      0.82      4915\n",
      "\n",
      "   micro avg\t   0.82      0.82      0.82\n"
     ]
    },
    {
     "data": {
      "text/html": [
       "<div>\n",
       "<style scoped>\n",
       "    .dataframe tbody tr th:only-of-type {\n",
       "        vertical-align: middle;\n",
       "    }\n",
       "\n",
       "    .dataframe tbody tr th {\n",
       "        vertical-align: top;\n",
       "    }\n",
       "\n",
       "    .dataframe thead th {\n",
       "        text-align: right;\n",
       "    }\n",
       "</style>\n",
       "<table border=\"1\" class=\"dataframe\">\n",
       "  <thead>\n",
       "    <tr style=\"text-align: right;\">\n",
       "      <th></th>\n",
       "      <th>mean_fit_time</th>\n",
       "      <th>std_fit_time</th>\n",
       "      <th>mean_score_time</th>\n",
       "      <th>std_score_time</th>\n",
       "      <th>param_max_depth</th>\n",
       "      <th>params</th>\n",
       "      <th>split0_test_score</th>\n",
       "      <th>split1_test_score</th>\n",
       "      <th>split2_test_score</th>\n",
       "      <th>split3_test_score</th>\n",
       "      <th>...</th>\n",
       "      <th>mean_test_score</th>\n",
       "      <th>std_test_score</th>\n",
       "      <th>rank_test_score</th>\n",
       "      <th>split0_train_score</th>\n",
       "      <th>split1_train_score</th>\n",
       "      <th>split2_train_score</th>\n",
       "      <th>split3_train_score</th>\n",
       "      <th>split4_train_score</th>\n",
       "      <th>mean_train_score</th>\n",
       "      <th>std_train_score</th>\n",
       "    </tr>\n",
       "  </thead>\n",
       "  <tbody>\n",
       "    <tr>\n",
       "      <td>0</td>\n",
       "      <td>0.056188</td>\n",
       "      <td>0.019648</td>\n",
       "      <td>0.002002</td>\n",
       "      <td>0.000630</td>\n",
       "      <td>3</td>\n",
       "      <td>{'max_depth': 3}</td>\n",
       "      <td>0.782135</td>\n",
       "      <td>0.782817</td>\n",
       "      <td>0.786306</td>\n",
       "      <td>0.782381</td>\n",
       "      <td>...</td>\n",
       "      <td>0.783204</td>\n",
       "      <td>0.001566</td>\n",
       "      <td>8</td>\n",
       "      <td>0.782381</td>\n",
       "      <td>0.784827</td>\n",
       "      <td>0.783955</td>\n",
       "      <td>0.782320</td>\n",
       "      <td>0.782320</td>\n",
       "      <td>0.783160</td>\n",
       "      <td>0.001042</td>\n",
       "    </tr>\n",
       "    <tr>\n",
       "      <td>1</td>\n",
       "      <td>0.119830</td>\n",
       "      <td>0.013967</td>\n",
       "      <td>0.006604</td>\n",
       "      <td>0.005751</td>\n",
       "      <td>5</td>\n",
       "      <td>{'max_depth': 5}</td>\n",
       "      <td>0.792157</td>\n",
       "      <td>0.791103</td>\n",
       "      <td>0.799389</td>\n",
       "      <td>0.793284</td>\n",
       "      <td>...</td>\n",
       "      <td>0.793669</td>\n",
       "      <td>0.002943</td>\n",
       "      <td>7</td>\n",
       "      <td>0.797427</td>\n",
       "      <td>0.802921</td>\n",
       "      <td>0.797798</td>\n",
       "      <td>0.801940</td>\n",
       "      <td>0.798452</td>\n",
       "      <td>0.799708</td>\n",
       "      <td>0.002269</td>\n",
       "    </tr>\n",
       "    <tr>\n",
       "      <td>2</td>\n",
       "      <td>0.150438</td>\n",
       "      <td>0.022805</td>\n",
       "      <td>0.002201</td>\n",
       "      <td>0.000401</td>\n",
       "      <td>8</td>\n",
       "      <td>{'max_depth': 8}</td>\n",
       "      <td>0.818301</td>\n",
       "      <td>0.807676</td>\n",
       "      <td>0.812037</td>\n",
       "      <td>0.812909</td>\n",
       "      <td>...</td>\n",
       "      <td>0.812157</td>\n",
       "      <td>0.003570</td>\n",
       "      <td>6</td>\n",
       "      <td>0.834823</td>\n",
       "      <td>0.843035</td>\n",
       "      <td>0.837366</td>\n",
       "      <td>0.839656</td>\n",
       "      <td>0.836712</td>\n",
       "      <td>0.838319</td>\n",
       "      <td>0.002819</td>\n",
       "    </tr>\n",
       "    <tr>\n",
       "      <td>3</td>\n",
       "      <td>0.167842</td>\n",
       "      <td>0.016122</td>\n",
       "      <td>0.003203</td>\n",
       "      <td>0.001470</td>\n",
       "      <td>10</td>\n",
       "      <td>{'max_depth': 10}</td>\n",
       "      <td>0.814379</td>\n",
       "      <td>0.825120</td>\n",
       "      <td>0.825120</td>\n",
       "      <td>0.818578</td>\n",
       "      <td>...</td>\n",
       "      <td>0.819656</td>\n",
       "      <td>0.004681</td>\n",
       "      <td>2</td>\n",
       "      <td>0.870148</td>\n",
       "      <td>0.876281</td>\n",
       "      <td>0.872357</td>\n",
       "      <td>0.873011</td>\n",
       "      <td>0.871267</td>\n",
       "      <td>0.872613</td>\n",
       "      <td>0.002077</td>\n",
       "    </tr>\n",
       "    <tr>\n",
       "      <td>4</td>\n",
       "      <td>0.136432</td>\n",
       "      <td>0.025599</td>\n",
       "      <td>0.002804</td>\n",
       "      <td>0.001166</td>\n",
       "      <td>12</td>\n",
       "      <td>{'max_depth': 12}</td>\n",
       "      <td>0.816993</td>\n",
       "      <td>0.824248</td>\n",
       "      <td>0.825992</td>\n",
       "      <td>0.831225</td>\n",
       "      <td>...</td>\n",
       "      <td>0.823842</td>\n",
       "      <td>0.004811</td>\n",
       "      <td>1</td>\n",
       "      <td>0.908090</td>\n",
       "      <td>0.919555</td>\n",
       "      <td>0.912252</td>\n",
       "      <td>0.914977</td>\n",
       "      <td>0.907020</td>\n",
       "      <td>0.912379</td>\n",
       "      <td>0.004591</td>\n",
       "    </tr>\n",
       "  </tbody>\n",
       "</table>\n",
       "<p>5 rows × 21 columns</p>\n",
       "</div>"
      ],
      "text/plain": [
       "   mean_fit_time  std_fit_time  mean_score_time  std_score_time  \\\n",
       "0       0.056188      0.019648         0.002002        0.000630   \n",
       "1       0.119830      0.013967         0.006604        0.005751   \n",
       "2       0.150438      0.022805         0.002201        0.000401   \n",
       "3       0.167842      0.016122         0.003203        0.001470   \n",
       "4       0.136432      0.025599         0.002804        0.001166   \n",
       "\n",
       "  param_max_depth             params  split0_test_score  split1_test_score  \\\n",
       "0               3   {'max_depth': 3}           0.782135           0.782817   \n",
       "1               5   {'max_depth': 5}           0.792157           0.791103   \n",
       "2               8   {'max_depth': 8}           0.818301           0.807676   \n",
       "3              10  {'max_depth': 10}           0.814379           0.825120   \n",
       "4              12  {'max_depth': 12}           0.816993           0.824248   \n",
       "\n",
       "   split2_test_score  split3_test_score  ...  mean_test_score  std_test_score  \\\n",
       "0           0.786306           0.782381  ...         0.783204        0.001566   \n",
       "1           0.799389           0.793284  ...         0.793669        0.002943   \n",
       "2           0.812037           0.812909  ...         0.812157        0.003570   \n",
       "3           0.825120           0.818578  ...         0.819656        0.004681   \n",
       "4           0.825992           0.831225  ...         0.823842        0.004811   \n",
       "\n",
       "   rank_test_score  split0_train_score  split1_train_score  \\\n",
       "0                8            0.782381            0.784827   \n",
       "1                7            0.797427            0.802921   \n",
       "2                6            0.834823            0.843035   \n",
       "3                2            0.870148            0.876281   \n",
       "4                1            0.908090            0.919555   \n",
       "\n",
       "   split2_train_score  split3_train_score  split4_train_score  \\\n",
       "0            0.783955            0.782320            0.782320   \n",
       "1            0.797798            0.801940            0.798452   \n",
       "2            0.837366            0.839656            0.836712   \n",
       "3            0.872357            0.873011            0.871267   \n",
       "4            0.912252            0.914977            0.907020   \n",
       "\n",
       "   mean_train_score  std_train_score  \n",
       "0          0.783160         0.001042  \n",
       "1          0.799708         0.002269  \n",
       "2          0.838319         0.002819  \n",
       "3          0.872613         0.002077  \n",
       "4          0.912379         0.004591  \n",
       "\n",
       "[5 rows x 21 columns]"
      ]
     },
     "metadata": {},
     "output_type": "display_data"
    }
   ],
   "source": [
    "#decision tree\n",
    "from sklearn.tree import DecisionTreeClassifier\n",
    "from sklearn.model_selection import GridSearchCV\n",
    "param={'max_depth':[3,5,8,10,12,15,18,20]}\n",
    "dtree = DecisionTreeClassifier(random_state=999) \n",
    "treegrid=GridSearchCV(estimator=dtree,param_grid=param,return_train_score=True,cv=5,n_jobs=-1)\n",
    "treegrid.fit(x_train,y_train)\n",
    "print('\\n Decision Tree Modelling: ')\n",
    "print(\"\\n\\t•Best parameters: {}\".format(treegrid.best_params_))\n",
    "print(\"\\n\\t•Best cross-validation score: {:.2f}\".format(treegrid.best_score_))\n",
    "print(\"\\n\\t•The Test score: \",treegrid.score(x_test,y_test))\n",
    "y_pred=treegrid.predict(x_test)\n",
    "y_prob=treegrid.predict_proba(x_test)[:,1]\n",
    "print('\\n\\t•ROC-AUC SCORE',roc_auc_score(y_test,y_prob))\n",
    "print('\\nThe Confusion Matrix is plotted below:')\n",
    "display(pd.DataFrame(confusion_matrix(y_test,y_pred,labels=[0,1]),index=['Not Falling','Falling'],columns=['Not Falling','Falling']))\n",
    "print('\\nThe Classification Report is plotted below: \\n\\n',classification_report(y_test,y_pred))\n",
    "print('   micro avg\\t  ',precision_score(y_test, y_pred, average='micro').round(2),'    ',recall_score(y_test, y_pred, average='micro').round(2),'    ',\n",
    "      f1_score(y_test, y_pred, average='micro').round(2) )\n",
    "results = pd.DataFrame(treegrid.cv_results_)\n",
    "display(results.head())\n",
    "\n"
   ]
  },
  {
   "cell_type": "code",
   "execution_count": 55,
   "metadata": {},
   "outputs": [
    {
     "data": {
      "image/png": "[encoded data removed]",
      "text/plain": [
       "<Figure size 576x360 with 1 Axes>"
      ]
     },
     "metadata": {
      "needs_background": "light"
     },
     "output_type": "display_data"
    }
   ],
   "source": [
    "from sklearn.metrics import roc_curve, auc\n",
    "fpr_tree, tpr_tree, thresholds_tree = roc_curve(y_test, y_prob)\n",
    "roc_auc = auc(fpr_tree, tpr_tree)\n",
    "plt.figure(figsize=(8,5))\n",
    "plt.plot(fpr_tree, tpr_tree, lw=1, color='green', label=f'AUC = {roc_auc:.3f}')\n",
    "plt.plot([0, 1], [0, 1], color='navy', lw=3, linestyle='--')\n",
    "plt.title('ROC Curve for Decision Tree classifier',fontsize=16)\n",
    "plt.xlabel('False Positive Rate', fontsize=16)\n",
    "plt.ylabel('True Positive Rate (Recall)', fontsize=16)\n",
    "plt.xlim([-0.05, 1.05])\n",
    "plt.ylim([-0.05, 1.05])\n",
    "plt.legend()\n",
    "plt.show()"
   ]
  },
  {
   "cell_type": "markdown",
   "metadata": {},
   "source": [
    "\n",
    "<div class=\"alert alert-block alert-info\">\n",
    "<b><font size=\"4\">3) Random Forest</font></b>\n",
    "</div>\n",
    "\n"
   ]
  },
  {
   "cell_type": "code",
   "execution_count": 57,
   "metadata": {},
   "outputs": [
    {
     "name": "stdout",
     "output_type": "stream",
     "text": [
      "\n",
      " Decision Tree Modelling: \n",
      "\n",
      "\t•Best parameters: {'max_depth': 20, 'n_estimators': 300}\n",
      "\n",
      "\t•Best cross-validation score: 0.86\n",
      "\n",
      "\t•The Test score:  0.8587995930824008\n",
      "\n",
      "\t•ROC-AUC SCORE 0.9178110558897898\n",
      "\n",
      "The Confusion Matrix is plotted below:\n"
     ]
    },
    {
     "data": {
      "text/html": [
       "<div>\n",
       "<style scoped>\n",
       "    .dataframe tbody tr th:only-of-type {\n",
       "        vertical-align: middle;\n",
       "    }\n",
       "\n",
       "    .dataframe tbody tr th {\n",
       "        vertical-align: top;\n",
       "    }\n",
       "\n",
       "    .dataframe thead th {\n",
       "        text-align: right;\n",
       "    }\n",
       "</style>\n",
       "<table border=\"1\" class=\"dataframe\">\n",
       "  <thead>\n",
       "    <tr style=\"text-align: right;\">\n",
       "      <th></th>\n",
       "      <th>Not Falling</th>\n",
       "      <th>Falling</th>\n",
       "    </tr>\n",
       "  </thead>\n",
       "  <tbody>\n",
       "    <tr>\n",
       "      <td>Not Falling</td>\n",
       "      <td>3566</td>\n",
       "      <td>257</td>\n",
       "    </tr>\n",
       "    <tr>\n",
       "      <td>Falling</td>\n",
       "      <td>437</td>\n",
       "      <td>655</td>\n",
       "    </tr>\n",
       "  </tbody>\n",
       "</table>\n",
       "</div>"
      ],
      "text/plain": [
       "             Not Falling  Falling\n",
       "Not Falling         3566      257\n",
       "Falling              437      655"
      ]
     },
     "metadata": {},
     "output_type": "display_data"
    },
    {
     "name": "stdout",
     "output_type": "stream",
     "text": [
      "\n",
      "The Classification Report is plotted below: \n",
      "\n",
      "              precision    recall  f1-score   support\n",
      "\n",
      "          0       0.89      0.93      0.91      3823\n",
      "          1       0.72      0.60      0.65      1092\n",
      "\n",
      "avg / total       0.85      0.86      0.85      4915\n",
      "\n",
      "   micro avg\t   0.86      0.86      0.86\n"
     ]
    },
    {
     "data": {
      "text/html": [
       "<div>\n",
       "<style scoped>\n",
       "    .dataframe tbody tr th:only-of-type {\n",
       "        vertical-align: middle;\n",
       "    }\n",
       "\n",
       "    .dataframe tbody tr th {\n",
       "        vertical-align: top;\n",
       "    }\n",
       "\n",
       "    .dataframe thead th {\n",
       "        text-align: right;\n",
       "    }\n",
       "</style>\n",
       "<table border=\"1\" class=\"dataframe\">\n",
       "  <thead>\n",
       "    <tr style=\"text-align: right;\">\n",
       "      <th></th>\n",
       "      <th>mean_fit_time</th>\n",
       "      <th>std_fit_time</th>\n",
       "      <th>mean_score_time</th>\n",
       "      <th>std_score_time</th>\n",
       "      <th>param_max_depth</th>\n",
       "      <th>param_n_estimators</th>\n",
       "      <th>params</th>\n",
       "      <th>split0_test_score</th>\n",
       "      <th>split1_test_score</th>\n",
       "      <th>split2_test_score</th>\n",
       "      <th>mean_test_score</th>\n",
       "      <th>std_test_score</th>\n",
       "      <th>rank_test_score</th>\n",
       "      <th>split0_train_score</th>\n",
       "      <th>split1_train_score</th>\n",
       "      <th>split2_train_score</th>\n",
       "      <th>mean_train_score</th>\n",
       "      <th>std_train_score</th>\n",
       "    </tr>\n",
       "  </thead>\n",
       "  <tbody>\n",
       "    <tr>\n",
       "      <td>0</td>\n",
       "      <td>0.713890</td>\n",
       "      <td>0.093246</td>\n",
       "      <td>0.105652</td>\n",
       "      <td>0.000444</td>\n",
       "      <td>3</td>\n",
       "      <td>100</td>\n",
       "      <td>{'max_depth': 3, 'n_estimators': 100}</td>\n",
       "      <td>0.782370</td>\n",
       "      <td>0.782313</td>\n",
       "      <td>0.782313</td>\n",
       "      <td>0.782332</td>\n",
       "      <td>0.000027</td>\n",
       "      <td>22</td>\n",
       "      <td>0.782313</td>\n",
       "      <td>0.782341</td>\n",
       "      <td>0.782341</td>\n",
       "      <td>0.782332</td>\n",
       "      <td>0.000013</td>\n",
       "    </tr>\n",
       "    <tr>\n",
       "      <td>1</td>\n",
       "      <td>1.935159</td>\n",
       "      <td>0.352683</td>\n",
       "      <td>0.596484</td>\n",
       "      <td>0.239645</td>\n",
       "      <td>3</td>\n",
       "      <td>200</td>\n",
       "      <td>{'max_depth': 3, 'n_estimators': 200}</td>\n",
       "      <td>0.782370</td>\n",
       "      <td>0.782313</td>\n",
       "      <td>0.782313</td>\n",
       "      <td>0.782332</td>\n",
       "      <td>0.000027</td>\n",
       "      <td>22</td>\n",
       "      <td>0.782313</td>\n",
       "      <td>0.782341</td>\n",
       "      <td>0.782341</td>\n",
       "      <td>0.782332</td>\n",
       "      <td>0.000013</td>\n",
       "    </tr>\n",
       "    <tr>\n",
       "      <td>2</td>\n",
       "      <td>2.816378</td>\n",
       "      <td>0.189113</td>\n",
       "      <td>0.403772</td>\n",
       "      <td>0.117837</td>\n",
       "      <td>3</td>\n",
       "      <td>300</td>\n",
       "      <td>{'max_depth': 3, 'n_estimators': 300}</td>\n",
       "      <td>0.782370</td>\n",
       "      <td>0.782313</td>\n",
       "      <td>0.782313</td>\n",
       "      <td>0.782332</td>\n",
       "      <td>0.000027</td>\n",
       "      <td>22</td>\n",
       "      <td>0.782313</td>\n",
       "      <td>0.782341</td>\n",
       "      <td>0.782341</td>\n",
       "      <td>0.782332</td>\n",
       "      <td>0.000013</td>\n",
       "    </tr>\n",
       "    <tr>\n",
       "      <td>3</td>\n",
       "      <td>1.374345</td>\n",
       "      <td>0.508651</td>\n",
       "      <td>0.139371</td>\n",
       "      <td>0.029687</td>\n",
       "      <td>5</td>\n",
       "      <td>100</td>\n",
       "      <td>{'max_depth': 5, 'n_estimators': 100}</td>\n",
       "      <td>0.783678</td>\n",
       "      <td>0.785453</td>\n",
       "      <td>0.787023</td>\n",
       "      <td>0.785384</td>\n",
       "      <td>0.001366</td>\n",
       "      <td>19</td>\n",
       "      <td>0.785453</td>\n",
       "      <td>0.786789</td>\n",
       "      <td>0.788358</td>\n",
       "      <td>0.786867</td>\n",
       "      <td>0.001188</td>\n",
       "    </tr>\n",
       "    <tr>\n",
       "      <td>4</td>\n",
       "      <td>2.510966</td>\n",
       "      <td>0.395756</td>\n",
       "      <td>0.681176</td>\n",
       "      <td>0.175528</td>\n",
       "      <td>5</td>\n",
       "      <td>200</td>\n",
       "      <td>{'max_depth': 5, 'n_estimators': 200}</td>\n",
       "      <td>0.782370</td>\n",
       "      <td>0.785191</td>\n",
       "      <td>0.787023</td>\n",
       "      <td>0.784861</td>\n",
       "      <td>0.001914</td>\n",
       "      <td>21</td>\n",
       "      <td>0.784275</td>\n",
       "      <td>0.786789</td>\n",
       "      <td>0.788358</td>\n",
       "      <td>0.786474</td>\n",
       "      <td>0.001682</td>\n",
       "    </tr>\n",
       "  </tbody>\n",
       "</table>\n",
       "</div>"
      ],
      "text/plain": [
       "   mean_fit_time  std_fit_time  mean_score_time  std_score_time  \\\n",
       "0       0.713890      0.093246         0.105652        0.000444   \n",
       "1       1.935159      0.352683         0.596484        0.239645   \n",
       "2       2.816378      0.189113         0.403772        0.117837   \n",
       "3       1.374345      0.508651         0.139371        0.029687   \n",
       "4       2.510966      0.395756         0.681176        0.175528   \n",
       "\n",
       "  param_max_depth param_n_estimators                                 params  \\\n",
       "0               3                100  {'max_depth': 3, 'n_estimators': 100}   \n",
       "1               3                200  {'max_depth': 3, 'n_estimators': 200}   \n",
       "2               3                300  {'max_depth': 3, 'n_estimators': 300}   \n",
       "3               5                100  {'max_depth': 5, 'n_estimators': 100}   \n",
       "4               5                200  {'max_depth': 5, 'n_estimators': 200}   \n",
       "\n",
       "   split0_test_score  split1_test_score  split2_test_score  mean_test_score  \\\n",
       "0           0.782370           0.782313           0.782313         0.782332   \n",
       "1           0.782370           0.782313           0.782313         0.782332   \n",
       "2           0.782370           0.782313           0.782313         0.782332   \n",
       "3           0.783678           0.785453           0.787023         0.785384   \n",
       "4           0.782370           0.785191           0.787023         0.784861   \n",
       "\n",
       "   std_test_score  rank_test_score  split0_train_score  split1_train_score  \\\n",
       "0        0.000027               22            0.782313            0.782341   \n",
       "1        0.000027               22            0.782313            0.782341   \n",
       "2        0.000027               22            0.782313            0.782341   \n",
       "3        0.001366               19            0.785453            0.786789   \n",
       "4        0.001914               21            0.784275            0.786789   \n",
       "\n",
       "   split2_train_score  mean_train_score  std_train_score  \n",
       "0            0.782341          0.782332         0.000013  \n",
       "1            0.782341          0.782332         0.000013  \n",
       "2            0.782341          0.782332         0.000013  \n",
       "3            0.788358          0.786867         0.001188  \n",
       "4            0.788358          0.786474         0.001682  "
      ]
     },
     "metadata": {},
     "output_type": "display_data"
    }
   ],
   "source": [
    "#decision tree\n",
    "from sklearn.ensemble import RandomForestClassifier\n",
    "from sklearn.model_selection import GridSearchCV\n",
    "param={'max_depth':[3,5,8,10,12,15,18,20],'n_estimators':[100,200,300]}\n",
    "rftree = RandomForestClassifier(n_jobs=-1,random_state=42,criterion='entropy')\n",
    "rftreegrid=GridSearchCV(estimator=rftree,param_grid=param,return_train_score=True,cv=3,n_jobs=-1)\n",
    "rftreegrid.fit(x_train,y_train)\n",
    "print('\\n Decision Tree Modelling: ')\n",
    "print(\"\\n\\t•Best parameters: {}\".format(rftreegrid.best_params_))\n",
    "print(\"\\n\\t•Best cross-validation score: {:.2f}\".format(rftreegrid.best_score_))\n",
    "print(\"\\n\\t•The Test score: \",rftreegrid.score(x_test,y_test))\n",
    "y_pred=rftreegrid.predict(x_test)\n",
    "y_prob=rftreegrid.predict_proba(x_test)[:,1]\n",
    "print('\\n\\t•ROC-AUC SCORE',roc_auc_score(y_test,y_prob))\n",
    "print('\\nThe Confusion Matrix is plotted below:')\n",
    "display(pd.DataFrame(confusion_matrix(y_test,y_pred,labels=[0,1]),index=['Not Falling','Falling'],columns=['Not Falling','Falling']))\n",
    "print('\\nThe Classification Report is plotted below: \\n\\n',classification_report(y_test,y_pred))\n",
    "print('   micro avg\\t  ',precision_score(y_test, y_pred, average='micro').round(2),'    ',recall_score(y_test, y_pred, average='micro').round(2),'    ',\n",
    "      f1_score(y_test, y_pred, average='micro').round(2) )\n",
    "results = pd.DataFrame(rftreegrid.cv_results_)\n",
    "display(results.head())\n",
    "\n"
   ]
  },
  {
   "cell_type": "code",
   "execution_count": 58,
   "metadata": {},
   "outputs": [
    {
     "data": {
      "image/png": "[encoded data removed]",
      "text/plain": [
       "<Figure size 576x360 with 1 Axes>"
      ]
     },
     "metadata": {
      "needs_background": "light"
     },
     "output_type": "display_data"
    }
   ],
   "source": [
    "from sklearn.metrics import roc_curve, auc\n",
    "fpr_rftree, tpr_rftree, thresholds_rftree = roc_curve(y_test, y_prob)\n",
    "roc_auc = auc(fpr_rftree, tpr_rftree)\n",
    "plt.figure(figsize=(8,5))\n",
    "plt.plot(fpr_rftree, tpr_rftree, lw=1, color='green', label=f'AUC = {roc_auc:.3f}')\n",
    "plt.plot([0, 1], [0, 1], color='navy', lw=3, linestyle='--')\n",
    "plt.title('ROC Curve for Random Forest Classifier',fontsize=16)\n",
    "plt.xlabel('False Positive Rate', fontsize=16)\n",
    "plt.ylabel('True Positive Rate (Recall)', fontsize=16)\n",
    "plt.xlim([-0.05, 1.05])\n",
    "plt.ylim([-0.05, 1.05])\n",
    "plt.legend()\n",
    "plt.show()"
   ]
  },
  {
   "cell_type": "markdown",
   "metadata": {},
   "source": [
    "\n",
    "<div class=\"alert alert-block alert-info\">\n",
    "<b><font size=\"4\">Scores Comparison by ROC Curves</font></b>\n",
    "</div>\n",
    "\n"
   ]
  },
  {
   "cell_type": "code",
   "execution_count": 61,
   "metadata": {},
   "outputs": [
    {
     "data": {
      "image/png": "[encoded data removed]",
      "text/plain": [
       "<Figure size 720x576 with 1 Axes>"
      ]
     },
     "metadata": {
      "needs_background": "light"
     },
     "output_type": "display_data"
    }
   ],
   "source": [
    "plt.figure(figsize=(10,8))\n",
    "plt.plot(fpr_knn, tpr_knn, lw=1, color='green', label='KNN Model')\n",
    "plt.plot([0, 1], [0, 1], color='navy', lw=3, linestyle='--')\n",
    "plt.plot(fpr_tree, tpr_tree, lw=1, color='blue', label='Decision Tree')\n",
    "plt.plot(fpr_rftree, tpr_rftree, lw=1, color='red', label=f'Random Forest')\n",
    "plt.title('ROC Curve Comparison for all classifiers',fontsize=16)\n",
    "plt.xlabel('False Positive Rate', fontsize=16)\n",
    "plt.ylabel('True Positive Rate (Recall)', fontsize=16)\n",
    "plt.xlim([-0.05, 1.05])\n",
    "plt.ylim([-0.05, 1.05])\n",
    "plt.legend()\n",
    "plt.show()"
   ]
  },
  {
   "cell_type": "markdown",
   "metadata": {},
   "source": [
    "\n",
    "<div class=\"alert alert-block alert-success\">\n",
    "\n",
    "From the above plot we can see that the Random Forest classifier has the best ROC score of 0.91 and classify the Falling category data very well when compared with the other two models"
   ]
  },
  {
   "cell_type": "code",
   "execution_count": null,
   "metadata": {},
   "outputs": [],
   "source": []
  },
  {
   "cell_type": "code",
   "execution_count": null,
   "metadata": {},
   "outputs": [],
   "source": []
  },
  {
   "cell_type": "code",
   "execution_count": null,
   "metadata": {},
   "outputs": [],
   "source": []
  },
  {
   "cell_type": "code",
   "execution_count": null,
   "metadata": {},
   "outputs": [],
   "source": []
  },
  {
   "cell_type": "code",
   "execution_count": null,
   "metadata": {},
   "outputs": [],
   "source": []
  },
  {
   "cell_type": "code",
   "execution_count": null,
   "metadata": {},
   "outputs": [],
   "source": []
  },
  {
   "cell_type": "code",
   "execution_count": null,
   "metadata": {},
   "outputs": [],
   "source": []
  },
  {
   "cell_type": "code",
   "execution_count": null,
   "metadata": {},
   "outputs": [],
   "source": []
  }
 ],
 "metadata": {
  "kernelspec": {
   "display_name": "Python 3",
   "language": "python",
   "name": "python3"
  },
  "language_info": {
   "codemirror_mode": {
    "name": "ipython",
    "version": 3
   },
   "file_extension": ".py",
   "mimetype": "text/x-python",
   "name": "python",
   "nbconvert_exporter": "python",
   "pygments_lexer": "ipython3",
   "version": "3.7.3"
  }
 },
 "nbformat": 4,
 "nbformat_minor": 2
}
